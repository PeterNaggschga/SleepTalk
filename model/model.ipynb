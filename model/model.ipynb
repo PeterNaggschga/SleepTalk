{
 "cells": [
  {
   "cell_type": "markdown",
   "metadata": {},
   "source": [
    "# SleepTalk\n",
    "\n",
    "## Categories:\n",
    "\n",
    "| Category       | Label  |\n",
    "|----------------|--------|\n",
    "| Talk           | SPEECH |\n",
    "| Snoring        | SNORE  |\n",
    "| Sighs          | SIGH   |\n",
    "| Farts          | FART   |\n",
    "| Loud breathing | BREATH |\n",
    "| Cough          | COUGH  |"
   ]
  },
  {
   "metadata": {},
   "cell_type": "markdown",
   "source": "## Setup"
  },
  {
   "metadata": {
    "ExecuteTime": {
     "end_time": "2024-08-08T14:25:19.176618Z",
     "start_time": "2024-08-08T14:25:19.173556Z"
    }
   },
   "cell_type": "code",
   "source": [
    "import os\n",
    "import shutil\n",
    "import tarfile\n",
    "import urllib.request\n",
    "\n",
    "import csv\n",
    "\n",
    "import tensorflow as tf\n",
    "import numpy as np\n",
    "from functools import reduce\n",
    "from concurrent.futures import ProcessPoolExecutor as ConcurrentExecutor\n",
    "\n",
    "import tf_keras\n",
    "from tf_keras import Sequential\n",
    "from tensorflow_hub import KerasLayer\n",
    "from tf_keras.layers import Conv1D, MaxPooling1D, GlobalMaxPooling1D, Dropout, Dense, Input, Lambda\n"
   ],
   "outputs": [],
   "execution_count": 46
  },
  {
   "metadata": {
    "ExecuteTime": {
     "end_time": "2024-08-08T13:45:11.584758Z",
     "start_time": "2024-08-08T13:45:11.582271Z"
    }
   },
   "cell_type": "code",
   "source": [
    "# define classes TODO: define depending on training data\n",
    "\n",
    "classes = [\"SPEECH\", \"SNORE\", \"SIGH\", \"FART\", \"BREATH\", \"COUGH\"]\n",
    "no_class = \"NONE\""
   ],
   "outputs": [],
   "execution_count": 2
  },
  {
   "metadata": {},
   "cell_type": "markdown",
   "source": [
    "## Training data collection\n",
    "\n"
   ]
  },
  {
   "metadata": {
    "ExecuteTime": {
     "end_time": "2024-08-08T13:45:11.588296Z",
     "start_time": "2024-08-08T13:45:11.585896Z"
    }
   },
   "cell_type": "code",
   "source": [
    "google_data_dir = \"google\"\n",
    "google_label_file = f\"{google_data_dir}/labels.csv\""
   ],
   "outputs": [],
   "execution_count": 3
  },
  {
   "metadata": {
    "ExecuteTime": {
     "end_time": "2024-08-04T17:47:34.920138Z",
     "start_time": "2024-08-04T17:43:53.962235Z"
    }
   },
   "cell_type": "code",
   "source": [
    "# download google training embeddings\n",
    "if os.path.exists(google_data_dir):\n",
    "    shutil.rmtree(google_data_dir)\n",
    "    \n",
    "print(\"Downloading training features...\")\n",
    "with urllib.request.urlopen(\"https://storage.googleapis.com/eu_audioset/youtube_corpus/v1/features/features.tar.gz\") as response, tarfile.open(fileobj=response, mode='r|gz') as targz:\n",
    "    targz.extractall(filter='tar')\n",
    "    os.rename(\"audioset_v1_embeddings\", google_data_dir)\n",
    "\n",
    "print(\"done\")"
   ],
   "outputs": [
    {
     "name": "stdout",
     "output_type": "stream",
     "text": [
      "Downloading training features...\n",
      "done\n"
     ]
    }
   ],
   "execution_count": 3
  },
  {
   "metadata": {
    "ExecuteTime": {
     "end_time": "2024-08-08T13:45:16.506299Z",
     "start_time": "2024-08-08T13:45:16.504037Z"
    }
   },
   "cell_type": "code",
   "source": [
    "# download label file\n",
    "if not os.path.exists(google_label_file):\n",
    "    urllib.request.urlretrieve(\"https://storage.googleapis.com/us_audioset/youtube_corpus/v1/csv/class_labels_indices.csv\", google_label_file)\n"
   ],
   "outputs": [],
   "execution_count": 4
  },
  {
   "metadata": {
    "ExecuteTime": {
     "end_time": "2024-08-08T13:45:17.680440Z",
     "start_time": "2024-08-08T13:45:17.676974Z"
    }
   },
   "cell_type": "code",
   "source": [
    "synonyms = {\n",
    "    classes[0]: [\"Speech\", \"Shout\", \"Whispering\"], # SPEECH\n",
    "    classes[1]: [\"Snoring\"], # SNORE\n",
    "    classes[2]: [\"Sigh\", \"Groan\", \"Grunt\"], # SIGH\n",
    "    classes[3]: [\"Stomach rumble\", \"Fart\"], # FART\n",
    "    classes[4]: [\"Yawn\", \"Sniff\", \"Wheeze\", \"Gasp\", \"Pant\", \"Snort\"], # BREATH\n",
    "    classes[5]: [\"Cough\", \"Sneeze\"], # COUGH\n",
    "    no_class: [\"Chewing, mastication\", \"Biting\", \"Burping, eructation\", \"Bang\", \"Slap, smack\", \"Whack, thwack\", \"Smash, crash\", \"Knock\", \"Tap\", \"Flap\", \"Vehicle\", \"Alarm\", \"Door\", \"Thunderstorm\", \"Wind\", \"Water\", \"Noise\"]\n",
    "}\n",
    "\n",
    "switched_synonyms = {}\n",
    "for (key, entry) in synonyms.items():\n",
    "    for synonym in entry:\n",
    "        switched_synonyms[synonym] = key\n",
    "\n",
    "synonyms = switched_synonyms"
   ],
   "outputs": [],
   "execution_count": 5
  },
  {
   "metadata": {
    "ExecuteTime": {
     "end_time": "2024-08-08T13:45:19.047194Z",
     "start_time": "2024-08-08T13:45:19.044348Z"
    }
   },
   "cell_type": "code",
   "source": [
    "label_to_class = {}\n",
    "with open(google_label_file, newline='') as label_file:\n",
    "    reader = csv.reader(label_file)\n",
    "    for row in filter(lambda r: r[2] in synonyms.keys(), reader):\n",
    "        label_to_class[int(row[0])] = synonyms[row[2]]\n"
   ],
   "outputs": [],
   "execution_count": 6
  },
  {
   "metadata": {
    "ExecuteTime": {
     "end_time": "2024-08-08T13:51:19.896887Z",
     "start_time": "2024-08-08T13:45:21.062424Z"
    }
   },
   "cell_type": "code",
   "source": [
    "def get_sequence_examples(filename):\n",
    "    return [tf.train.SequenceExample.FromString(record.numpy()) for record in tf.data.TFRecordDataset(filename)]\n",
    "\n",
    "\n",
    "def get_labels(sequence):\n",
    "    return sequence.context.feature[\"labels\"].int64_list.value\n",
    "\n",
    "\n",
    "def get_label_vector(labels: list[int]):\n",
    "    class_names = {label_to_class[label] for label in labels if label in label_to_class.keys()}\n",
    "    label_data = [0 for _ in range(len(classes))]\n",
    "    for class_name in class_names:\n",
    "        if class_name != no_class:\n",
    "            label_data[classes.index(class_name)] = 1\n",
    "    return np.array(label_data)\n",
    "\n",
    "\n",
    "def get_embeddings(sequence):\n",
    "    result = []\n",
    "    for feature in sequence.feature_lists.feature_list[\"audio_embedding\"].feature:\n",
    "        byte_list = feature.bytes_list.value[0]\n",
    "        byte_list = tf.io.decode_raw(byte_list, tf.uint8).numpy()\n",
    "        byte_list = tf.cast(byte_list, tf.float32).numpy()\n",
    "        result.append(byte_list / 2 ** 7 - 1)\n",
    "    return np.array(result)\n",
    "\n",
    "def get_file_content(filename):\n",
    "    with_class = []\n",
    "    without_class = []\n",
    "    for example in get_sequence_examples(filename):\n",
    "        labels = get_labels(example)\n",
    "        if label_to_class.keys().isdisjoint(labels):\n",
    "            continue\n",
    "        label_vector = get_label_vector(labels)\n",
    "        embeddings = get_embeddings(example)\n",
    "        if max(label_vector) != 0:\n",
    "            with_class.append((embeddings, label_vector))\n",
    "        else:\n",
    "            without_class.append((embeddings, label_vector))\n",
    "    return with_class, without_class\n",
    "\n",
    "balanced_train_dir = f\"{google_data_dir}/unbal_train\"\n",
    "filenames = [f\"{balanced_train_dir}/{file}\" for file in os.listdir(balanced_train_dir)]\n",
    "\n",
    "# TODO: Warnungen unterdrücken \n",
    "\n",
    "print(\"Reading google data...\")\n",
    "with ConcurrentExecutor() as pool:\n",
    "    intermediate_results = pool.map(get_file_content, filenames)\n",
    "print(\"done\")\n",
    "print(\"Accumulating...\")\n",
    "google_class, google_no_class = reduce(lambda a, b: (a[0] + b[0], a[1] + b[1]), list(intermediate_results))\n",
    "print(\"done\")"
   ],
   "outputs": [
    {
     "name": "stdout",
     "output_type": "stream",
     "text": [
      "Reading google data...\n"
     ]
    },
    {
     "name": "stderr",
     "output_type": "stream",
     "text": [
      "2024-08-08 15:45:21.490476: I tensorflow/core/framework/local_rendezvous.cc:404] Local rendezvous is aborting with status: OUT_OF_RANGE: End of sequence\n",
      "2024-08-08 15:45:21.501746: I tensorflow/core/framework/local_rendezvous.cc:404] Local rendezvous is aborting with status: OUT_OF_RANGE: End of sequence\n",
      "2024-08-08 15:45:21.503798: I tensorflow/core/framework/local_rendezvous.cc:404] Local rendezvous is aborting with status: OUT_OF_RANGE: End of sequence\n",
      "2024-08-08 15:45:21.529409: I tensorflow/core/framework/local_rendezvous.cc:404] Local rendezvous is aborting with status: OUT_OF_RANGE: End of sequence\n",
      "2024-08-08 15:45:21.539468: I tensorflow/core/framework/local_rendezvous.cc:404] Local rendezvous is aborting with status: OUT_OF_RANGE: End of sequence\n",
      "2024-08-08 15:45:21.541461: I tensorflow/core/framework/local_rendezvous.cc:404] Local rendezvous is aborting with status: OUT_OF_RANGE: End of sequence\n",
      "2024-08-08 15:45:21.544981: I tensorflow/core/framework/local_rendezvous.cc:404] Local rendezvous is aborting with status: OUT_OF_RANGE: End of sequence\n",
      "2024-08-08 15:45:21.547362: I tensorflow/core/framework/local_rendezvous.cc:404] Local rendezvous is aborting with status: OUT_OF_RANGE: End of sequence\n",
      "2024-08-08 15:45:21.548520: I tensorflow/core/framework/local_rendezvous.cc:404] Local rendezvous is aborting with status: OUT_OF_RANGE: End of sequence\n",
      "2024-08-08 15:45:21.558518: I tensorflow/core/framework/local_rendezvous.cc:404] Local rendezvous is aborting with status: OUT_OF_RANGE: End of sequence\n",
      "2024-08-08 15:45:21.559412: I tensorflow/core/framework/local_rendezvous.cc:404] Local rendezvous is aborting with status: OUT_OF_RANGE: End of sequence\n",
      "2024-08-08 15:45:21.562498: I tensorflow/core/framework/local_rendezvous.cc:404] Local rendezvous is aborting with status: OUT_OF_RANGE: End of sequence\n",
      "2024-08-08 15:45:21.562666: I tensorflow/core/framework/local_rendezvous.cc:404] Local rendezvous is aborting with status: OUT_OF_RANGE: End of sequence\n",
      "2024-08-08 15:45:21.564273: I tensorflow/core/framework/local_rendezvous.cc:404] Local rendezvous is aborting with status: OUT_OF_RANGE: End of sequence\n",
      "2024-08-08 15:45:21.575660: I tensorflow/core/framework/local_rendezvous.cc:404] Local rendezvous is aborting with status: OUT_OF_RANGE: End of sequence\n",
      "2024-08-08 15:45:21.585082: I tensorflow/core/framework/local_rendezvous.cc:404] Local rendezvous is aborting with status: OUT_OF_RANGE: End of sequence\n",
      "2024-08-08 15:45:22.352511: I tensorflow/core/framework/local_rendezvous.cc:404] Local rendezvous is aborting with status: OUT_OF_RANGE: End of sequence\n",
      "2024-08-08 15:45:22.353041: I tensorflow/core/framework/local_rendezvous.cc:404] Local rendezvous is aborting with status: OUT_OF_RANGE: End of sequence\n",
      "2024-08-08 15:45:22.365648: I tensorflow/core/framework/local_rendezvous.cc:404] Local rendezvous is aborting with status: OUT_OF_RANGE: End of sequence\n",
      "2024-08-08 15:45:22.396635: I tensorflow/core/framework/local_rendezvous.cc:404] Local rendezvous is aborting with status: OUT_OF_RANGE: End of sequence\n",
      "2024-08-08 15:45:22.442029: I tensorflow/core/framework/local_rendezvous.cc:404] Local rendezvous is aborting with status: OUT_OF_RANGE: End of sequence\n",
      "2024-08-08 15:45:22.492573: I tensorflow/core/framework/local_rendezvous.cc:404] Local rendezvous is aborting with status: OUT_OF_RANGE: End of sequence\n",
      "2024-08-08 15:45:22.555610: I tensorflow/core/framework/local_rendezvous.cc:404] Local rendezvous is aborting with status: OUT_OF_RANGE: End of sequence\n",
      "2024-08-08 15:45:22.609245: I tensorflow/core/framework/local_rendezvous.cc:404] Local rendezvous is aborting with status: OUT_OF_RANGE: End of sequence\n",
      "2024-08-08 15:45:22.666950: I tensorflow/core/framework/local_rendezvous.cc:404] Local rendezvous is aborting with status: OUT_OF_RANGE: End of sequence\n",
      "2024-08-08 15:45:22.706570: I tensorflow/core/framework/local_rendezvous.cc:404] Local rendezvous is aborting with status: OUT_OF_RANGE: End of sequence\n",
      "2024-08-08 15:45:22.756412: I tensorflow/core/framework/local_rendezvous.cc:404] Local rendezvous is aborting with status: OUT_OF_RANGE: End of sequence\n",
      "2024-08-08 15:45:22.763607: I tensorflow/core/framework/local_rendezvous.cc:404] Local rendezvous is aborting with status: OUT_OF_RANGE: End of sequence\n",
      "2024-08-08 15:45:22.777160: I tensorflow/core/framework/local_rendezvous.cc:404] Local rendezvous is aborting with status: OUT_OF_RANGE: End of sequence\n",
      "2024-08-08 15:45:23.371899: I tensorflow/core/framework/local_rendezvous.cc:404] Local rendezvous is aborting with status: OUT_OF_RANGE: End of sequence\n",
      "2024-08-08 15:45:23.440487: I tensorflow/core/framework/local_rendezvous.cc:404] Local rendezvous is aborting with status: OUT_OF_RANGE: End of sequence\n",
      "2024-08-08 15:45:23.625563: I tensorflow/core/framework/local_rendezvous.cc:404] Local rendezvous is aborting with status: OUT_OF_RANGE: End of sequence\n",
      "2024-08-08 15:45:24.261357: I tensorflow/core/framework/local_rendezvous.cc:404] Local rendezvous is aborting with status: OUT_OF_RANGE: End of sequence\n",
      "2024-08-08 15:45:24.344748: I tensorflow/core/framework/local_rendezvous.cc:404] Local rendezvous is aborting with status: OUT_OF_RANGE: End of sequence\n",
      "2024-08-08 15:45:24.426844: I tensorflow/core/framework/local_rendezvous.cc:404] Local rendezvous is aborting with status: OUT_OF_RANGE: End of sequence\n",
      "2024-08-08 15:45:24.551330: I tensorflow/core/framework/local_rendezvous.cc:404] Local rendezvous is aborting with status: OUT_OF_RANGE: End of sequence\n",
      "2024-08-08 15:45:24.751402: I tensorflow/core/framework/local_rendezvous.cc:404] Local rendezvous is aborting with status: OUT_OF_RANGE: End of sequence\n",
      "2024-08-08 15:45:24.910952: I tensorflow/core/framework/local_rendezvous.cc:404] Local rendezvous is aborting with status: OUT_OF_RANGE: End of sequence\n",
      "2024-08-08 15:45:24.929541: I tensorflow/core/framework/local_rendezvous.cc:404] Local rendezvous is aborting with status: OUT_OF_RANGE: End of sequence\n",
      "2024-08-08 15:45:24.935163: I tensorflow/core/framework/local_rendezvous.cc:404] Local rendezvous is aborting with status: OUT_OF_RANGE: End of sequence\n",
      "2024-08-08 15:45:25.013711: I tensorflow/core/framework/local_rendezvous.cc:404] Local rendezvous is aborting with status: OUT_OF_RANGE: End of sequence\n",
      "2024-08-08 15:45:25.377277: I tensorflow/core/framework/local_rendezvous.cc:404] Local rendezvous is aborting with status: OUT_OF_RANGE: End of sequence\n",
      "2024-08-08 15:45:25.445805: I tensorflow/core/framework/local_rendezvous.cc:404] Local rendezvous is aborting with status: OUT_OF_RANGE: End of sequence\n",
      "2024-08-08 15:45:25.768827: I tensorflow/core/framework/local_rendezvous.cc:404] Local rendezvous is aborting with status: OUT_OF_RANGE: End of sequence\n",
      "2024-08-08 15:45:25.857596: I tensorflow/core/framework/local_rendezvous.cc:404] Local rendezvous is aborting with status: OUT_OF_RANGE: End of sequence\n",
      "2024-08-08 15:45:26.529658: I tensorflow/core/framework/local_rendezvous.cc:404] Local rendezvous is aborting with status: OUT_OF_RANGE: End of sequence\n",
      "2024-08-08 15:45:26.581030: I tensorflow/core/framework/local_rendezvous.cc:404] Local rendezvous is aborting with status: OUT_OF_RANGE: End of sequence\n",
      "2024-08-08 15:45:27.083227: I tensorflow/core/framework/local_rendezvous.cc:404] Local rendezvous is aborting with status: OUT_OF_RANGE: End of sequence\n",
      "2024-08-08 15:45:28.857407: I tensorflow/core/framework/local_rendezvous.cc:404] Local rendezvous is aborting with status: OUT_OF_RANGE: End of sequence\n",
      "2024-08-08 15:45:28.936980: I tensorflow/core/framework/local_rendezvous.cc:404] Local rendezvous is aborting with status: OUT_OF_RANGE: End of sequence\n",
      "2024-08-08 15:45:29.160945: I tensorflow/core/framework/local_rendezvous.cc:404] Local rendezvous is aborting with status: OUT_OF_RANGE: End of sequence\n",
      "2024-08-08 15:45:29.594404: I tensorflow/core/framework/local_rendezvous.cc:404] Local rendezvous is aborting with status: OUT_OF_RANGE: End of sequence\n",
      "2024-08-08 15:45:29.629429: I tensorflow/core/framework/local_rendezvous.cc:404] Local rendezvous is aborting with status: OUT_OF_RANGE: End of sequence\n",
      "2024-08-08 15:45:29.986654: I tensorflow/core/framework/local_rendezvous.cc:404] Local rendezvous is aborting with status: OUT_OF_RANGE: End of sequence\n",
      "2024-08-08 15:45:30.257200: I tensorflow/core/framework/local_rendezvous.cc:404] Local rendezvous is aborting with status: OUT_OF_RANGE: End of sequence\n",
      "2024-08-08 15:45:30.377041: I tensorflow/core/framework/local_rendezvous.cc:404] Local rendezvous is aborting with status: OUT_OF_RANGE: End of sequence\n",
      "2024-08-08 15:45:30.550178: I tensorflow/core/framework/local_rendezvous.cc:404] Local rendezvous is aborting with status: OUT_OF_RANGE: End of sequence\n",
      "2024-08-08 15:45:30.571367: I tensorflow/core/framework/local_rendezvous.cc:404] Local rendezvous is aborting with status: OUT_OF_RANGE: End of sequence\n",
      "2024-08-08 15:45:30.852268: I tensorflow/core/framework/local_rendezvous.cc:404] Local rendezvous is aborting with status: OUT_OF_RANGE: End of sequence\n",
      "2024-08-08 15:45:31.112198: I tensorflow/core/framework/local_rendezvous.cc:404] Local rendezvous is aborting with status: OUT_OF_RANGE: End of sequence\n",
      "2024-08-08 15:45:31.160925: I tensorflow/core/framework/local_rendezvous.cc:404] Local rendezvous is aborting with status: OUT_OF_RANGE: End of sequence\n",
      "2024-08-08 15:45:31.476959: I tensorflow/core/framework/local_rendezvous.cc:404] Local rendezvous is aborting with status: OUT_OF_RANGE: End of sequence\n",
      "2024-08-08 15:45:31.802356: I tensorflow/core/framework/local_rendezvous.cc:404] Local rendezvous is aborting with status: OUT_OF_RANGE: End of sequence\n",
      "2024-08-08 15:45:32.767221: I tensorflow/core/framework/local_rendezvous.cc:404] Local rendezvous is aborting with status: OUT_OF_RANGE: End of sequence\n",
      "2024-08-08 15:45:37.389393: I tensorflow/core/framework/local_rendezvous.cc:404] Local rendezvous is aborting with status: OUT_OF_RANGE: End of sequence\n",
      "2024-08-08 15:45:38.924567: I tensorflow/core/framework/local_rendezvous.cc:404] Local rendezvous is aborting with status: OUT_OF_RANGE: End of sequence\n",
      "2024-08-08 15:45:38.990929: I tensorflow/core/framework/local_rendezvous.cc:404] Local rendezvous is aborting with status: OUT_OF_RANGE: End of sequence\n",
      "2024-08-08 15:45:39.462673: I tensorflow/core/framework/local_rendezvous.cc:404] Local rendezvous is aborting with status: OUT_OF_RANGE: End of sequence\n",
      "2024-08-08 15:45:39.860667: I tensorflow/core/framework/local_rendezvous.cc:404] Local rendezvous is aborting with status: OUT_OF_RANGE: End of sequence\n",
      "2024-08-08 15:45:40.440230: I tensorflow/core/framework/local_rendezvous.cc:404] Local rendezvous is aborting with status: OUT_O2024-08-08 15:45:40.440230: I tensorflow/core/framework/local_rendezvous.cc:404] Local rendezvous is aborting with status: OUT_OF_RANGE: End of sequence\n",
      "F_RANGE: End of sequence\n",
      "2024-08-08 15:45:40.723304: I tensorflow/core/framework/local_rendezvous.cc:404] Local rendezvous is aborting with status: OUT_OF_RANGE: End of sequence\n",
      "2024-08-08 15:45:41.080464: I tensorflow/core/framework/local_rendezvous.cc:404] Local rendezvous is aborting with status: OUT_OF_RANGE: End of sequence\n",
      "2024-08-08 15:45:41.514984: I tensorflow/core/framework/local_rendezvous.cc:404] Local rendezvous is aborting with status: OUT_OF_RANGE: End of sequence\n",
      "2024-08-08 15:45:41.718414: I tensorflow/core/framework/local_rendezvous.cc:404] Local rendezvous is aborting with status: OUT_OF_RANGE: End of sequence\n",
      "2024-08-08 15:45:42.364734: I tensorflow/core/framework/local_rendezvous.cc:404] Local rendezvous is aborting with status: OUT_OF_RANGE: End of sequence\n",
      "2024-08-08 15:45:42.598841: I tensorflow/core/framework/local_rendezvous.cc:404] Local rendezvous is aborting with status: OUT_OF_RANGE: End of sequence\n",
      "2024-08-08 15:45:42.667471: I tensorflow/core/framework/local_rendezvous.cc:404] Local rendezvous is aborting with status: OUT_OF_RANGE: End of sequence\n",
      "2024-08-08 15:45:43.896028: I tensorflow/core/framework/local_rendezvous.cc:404] Local rendezvous is aborting with status: OUT_OF_RANGE: End of sequence\n",
      "2024-08-08 15:45:44.598891: I tensorflow/core/framework/local_rendezvous.cc:404] Local rendezvous is aborting with status: OUT_OF_RANGE: End of sequence\n",
      "2024-08-08 15:45:56.118330: I tensorflow/core/framework/local_rendezvous.cc:404] Local rendezvous is aborting with status: OUT_OF_RANGE: End of sequence\n",
      "2024-08-08 15:45:56.148807: I tensorflow/core/framework/local_rendezvous.cc:404] Local rendezvous is aborting with status: OUT_OF_RANGE: End of sequence\n",
      "2024-08-08 15:45:56.941108: I tensorflow/core/framework/local_rendezvous.cc:404] Local rendezvous is aborting with status: OUT_OF_RANGE: End of sequence\n",
      "2024-08-08 15:45:57.048165: I tensorflow/core/framework/local_rendezvous.cc:404] Local rendezvous is aborting with status: OUT_OF_RANGE: End of sequence\n",
      "2024-08-08 15:45:58.751200: I tensorflow/core/framework/local_rendezvous.cc:404] Local rendezvous is aborting with status: OUT_OF_RANGE: End of sequence\n",
      "2024-08-08 15:45:59.389191: I tensorflow/core/framework/local_rendezvous.cc:404] Local rendezvous is aborting with status: OUT_OF_RANGE: End of sequence\n",
      "2024-08-08 15:46:00.404295: I tensorflow/core/framework/local_rendezvous.cc:404] Local rendezvous is aborting with status: OUT_OF_RANGE: End of sequence\n",
      "2024-08-08 15:46:00.872589: I tensorflow/core/framework/local_rendezvous.cc:404] Local rendezvous is aborting with status: OUT_OF_RANGE: End of sequence\n",
      "2024-08-08 15:46:00.932787: I tensorflow/core/framework/local_rendezvous.cc:404] Local rendezvous is aborting with status: OUT_OF_RANGE: End of sequence\n",
      "2024-08-08 15:46:00.946860: I tensorflow/core/framework/local_rendezvous.cc:404] Local rendezvous is aborting with status: OUT_OF_RANGE: End of sequence\n",
      "2024-08-08 15:46:01.456867: I tensorflow/core/framework/local_rendezvous.cc:404] Local rendezvous is aborting with status: OUT_OF_RANGE: End of sequence\n",
      "2024-08-08 15:46:01.645157: I tensorflow/core/framework/local_rendezvous.cc:404] Local rendezvous is aborting with status: OUT_OF_RANGE: End of sequence\n",
      "2024-08-08 15:46:01.747321: I tensorflow/core/framework/local_rendezvous.cc:404] Local rendezvous is aborting with status: OUT_OF_RANGE: End of sequence\n",
      "2024-08-08 15:46:01.909194: I tensorflow/core/framework/local_rendezvous.cc:404] Local rendezvous is aborting with status: OUT_OF_RANGE: End of sequence\n",
      "2024-08-08 15:46:02.271636: I tensorflow/core/framework/local_rendezvous.cc:404] Local rendezvous is aborting with status: OUT_OF_RANGE: End of sequence\n",
      "2024-08-08 15:46:04.312783: I tensorflow/core/framework/local_rendezvous.cc:404] Local rendezvous is aborting with status: OUT_OF_RANGE: End of sequence\n",
      "2024-08-08 15:46:33.169537: I tensorflow/core/framework/local_rendezvous.cc:404] Local rendezvous is aborting with status: OUT_OF_RANGE: End of sequence\n",
      "2024-08-08 15:46:33.584596: I tensorflow/core/framework/local_rendezvous.cc:404] Local rendezvous is aborting with status: OUT_OF_RANGE: End of sequence\n",
      "2024-08-08 15:46:34.269328: I tensorflow/core/framework/local_rendezvous.cc:404] Local rendezvous is aborting with status: OUT_OF_RANGE: End of sequence\n",
      "2024-08-08 15:46:34.931504: I tensorflow/core/framework/local_rendezvous.cc:404] Local rendezvous is aborting with status: OUT_OF_RANGE: End of sequence\n",
      "2024-08-08 15:46:37.395198: I tensorflow/core/framework/local_rendezvous.cc:404] Local rendezvous is aborting with status: OUT_OF_RANGE: End of sequence\n",
      "2024-08-08 15:46:37.410632: I tensorflow/core/framework/local_rendezvous.cc:404] Local rendezvous is aborting with status: OUT_OF_RANGE: End of sequence\n",
      "2024-08-08 15:46:37.582031: I tensorflow/core/framework/local_rendezvous.cc:404] Local rendezvous is aborting with status: OUT_OF_RANGE: End of sequence\n",
      "2024-08-08 15:46:38.351513: I tensorflow/core/framework/local_rendezvous.cc:404] Local rendezvous is aborting with status: OUT_OF_RANGE: End of sequence\n",
      "2024-08-08 15:46:38.740095: I tensorflow/core/framework/local_rendezvous.cc:404] Local rendezvous is aborting with status: OUT_OF_RANGE: End of sequence\n",
      "2024-08-08 15:46:39.472636: I tensorflow/core/framework/local_rendezvous.cc:404] Local rendezvous is aborting with status: OUT_OF_RANGE: End of sequence\n",
      "2024-08-08 15:46:39.690113: I tensorflow/core/framework/local_rendezvous.cc:404] Local rendezvous is aborting with status: OUT_OF_RANGE: End of sequence\n",
      "2024-08-08 15:46:40.536081: I tensorflow/core/framework/local_rendezvous.cc:404] Local rendezvous is aborting with status: OUT_OF_RANGE: End of sequence\n",
      "2024-08-08 15:46:41.000675: I tensorflow/core/framework/local_rendezvous.cc:404] Local rendezvous is aborting with status: OUT_OF_RANGE: End of sequence\n",
      "2024-08-08 15:46:41.070597: I tensorflow/core/framework/local_rendezvous.cc:404] Local rendezvous is aborting with status: OUT_OF_RANGE: End of sequence\n",
      "2024-08-08 15:46:42.089938: I tensorflow/core/framework/local_rendezvous.cc:404] Local rendezvous is aborting with status: OUT_OF_RANGE: End of sequence\n",
      "2024-08-08 15:46:46.556669: I tensorflow/core/framework/local_rendezvous.cc:404] Local rendezvous is aborting with status: OUT_OF_RANGE: End of sequence\n",
      "2024-08-08 15:47:42.957812: I tensorflow/core/framework/local_rendezvous.cc:404] Local rendezvous is aborting with status: OUT_OF_RANGE: End of sequence\n",
      "2024-08-08 15:47:44.165004: I tensorflow/core/framework/local_rendezvous.cc:404] Local rendezvous is aborting with status: OUT_OF_RANGE: End of sequence\n",
      "2024-08-08 15:47:44.613335: I tensorflow/core/framework/local_rendezvous.cc:404] Local rendezvous is aborting with status: OUT_OF_RANGE: End of sequence\n",
      "2024-08-08 15:47:45.751505: I tensorflow/core/framework/local_rendezvous.cc:404] Local rendezvous is aborting with status: OUT_OF_RANGE: End of sequence\n",
      "2024-08-08 15:47:46.324981: I tensorflow/core/framework/local_rendezvous.cc:404] Local rendezvous is aborting with status: OUT_OF_RANGE: End of sequence\n",
      "2024-08-08 15:47:48.051728: I tensorflow/core/framework/local_rendezvous.cc:404] Local rendezvous is aborting with status: OUT_OF_RANGE: End of sequence\n",
      "2024-08-08 15:47:48.314704: I tensorflow/core/framework/local_rendezvous.cc:404] Local rendezvous is aborting with status: OUT_OF_RANGE: End of sequence\n",
      "2024-08-08 15:47:49.424180: I tensorflow/core/framework/local_rendezvous.cc:404] Local rendezvous is aborting with status: OUT_OF_RANGE: End of sequence\n",
      "2024-08-08 15:47:51.685665: I tensorflow/core/framework/local_rendezvous.cc:404] Local rendezvous is aborting with status: OUT_OF_RANGE: End of sequence\n",
      "2024-08-08 15:47:52.190700: I tensorflow/core/framework/local_rendezvous.cc:404] Local rendezvous is aborting with status: OUT_OF_RANGE: End of sequence\n",
      "2024-08-08 15:47:52.936487: I tensorflow/core/framework/local_rendezvous.cc:404] Local rendezvous is aborting with status: OUT_OF_RANGE: End of sequence\n",
      "2024-08-08 15:47:55.994957: I tensorflow/core/framework/local_rendezvous.cc:404] Local rendezvous is aborting with status: OUT_OF_RANGE: End of sequence\n",
      "2024-08-08 15:47:56.995189: I tensorflow/core/framework/local_rendezvous.cc:404] Local rendezvous is aborting with status: OUT_OF_RANGE: End of sequence\n",
      "2024-08-08 15:47:57.523584: I tensorflow/core/framework/local_rendezvous.cc:404] Local rendezvous is aborting with status: OUT_OF_RANGE: End of sequence\n",
      "2024-08-08 15:47:58.925259: I tensorflow/core/framework/local_rendezvous.cc:404] Local rendezvous is aborting with status: OUT_OF_RANGE: End of sequence\n",
      "2024-08-08 15:47:59.199449: I tensorflow/core/framework/local_rendezvous.cc:404] Local rendezvous is aborting with status: OUT_OF_RANGE: End of sequence\n",
      "2024-08-08 15:50:20.253756: I tensorflow/core/framework/local_rendezvous.cc:404] Local rendezvous is aborting with status: OUT_OF_RANGE: End of sequence\n",
      "2024-08-08 15:50:21.588708: I tensorflow/core/framework/local_rendezvous.cc:404] Local rendezvous is aborting with status: OUT_OF_RANGE: End of sequence\n",
      "2024-08-08 15:50:25.732521: I tensorflow/core/framework/local_rendezvous.cc:404] Local rendezvous is aborting with status: OUT_OF_RANGE: End of sequence\n",
      "2024-08-08 15:50:27.055721: I tensorflow/core/framework/local_rendezvous.cc:404] Local rendezvous is aborting with status: OUT_OF_RANGE: End of sequence\n",
      "2024-08-08 15:50:27.108033: I tensorflow/core/framework/local_rendezvous.cc:404] Local rendezvous is aborting with status: OUT_OF_RANGE: End of sequence\n",
      "2024-08-08 15:50:27.508175: I tensorflow/core/framework/local_rendezvous.cc:404] Local rendezvous is aborting with status: OUT_OF_RANGE: End of sequence\n",
      "2024-08-08 15:50:31.295353: I tensorflow/core/framework/local_rendezvous.cc:404] Local rendezvous is aborting with status: OUT_OF_RANGE: End of sequence\n",
      "2024-08-08 15:50:32.292975: I tensorflow/core/framework/local_rendezvous.cc:404] Local rendezvous is aborting with status: OUT_OF_RANGE: End of sequence\n",
      "2024-08-08 15:50:32.740101: I tensorflow/core/framework/local_rendezvous.cc:404] Local rendezvous is aborting with status: OUT_OF_RANGE: End of sequence\n"
     ]
    },
    {
     "name": "stdout",
     "output_type": "stream",
     "text": [
      "done\n",
      "Accumulating...\n",
      "done\n"
     ]
    }
   ],
   "execution_count": 7
  },
  {
   "metadata": {
    "ExecuteTime": {
     "end_time": "2024-08-08T13:51:20.053136Z",
     "start_time": "2024-08-08T13:51:19.897947Z"
    }
   },
   "cell_type": "code",
   "source": [
    "np.random.shuffle(google_class)\n",
    "np.random.shuffle(google_no_class)"
   ],
   "outputs": [],
   "execution_count": 8
  },
  {
   "metadata": {
    "ExecuteTime": {
     "end_time": "2024-08-08T13:51:21.374345Z",
     "start_time": "2024-08-08T13:51:20.053842Z"
    }
   },
   "cell_type": "code",
   "source": [
    "min_len = min(len(google_class), len(google_no_class))\n",
    "google_class = google_class[:min_len]\n",
    "google_no_class = google_no_class[:min_len]    "
   ],
   "outputs": [],
   "execution_count": 9
  },
  {
   "metadata": {
    "ExecuteTime": {
     "end_time": "2024-08-08T13:53:02.641716Z",
     "start_time": "2024-08-08T13:51:21.375514Z"
    }
   },
   "cell_type": "code",
   "source": [
    "def to_ragged(tensors):\n",
    "    return tf.ragged.constant(tensors, ragged_rank=1)\n",
    "\n",
    "def split(a, n):\n",
    "    k, m = divmod(len(a), n)\n",
    "    return [a[i * k + min(i, m) : (i + 1) * k + min(i + 1, m)] for i in range(n)]\n",
    "\n",
    "\n",
    "training_embeddings, training_labels = zip(*[x for y in zip(google_class, google_no_class) for x in y])\n",
    "print(\"Creating input tensors...\")\n",
    "with ConcurrentExecutor() as pool:\n",
    "    training_embeddings = pool.map(to_ragged, split(training_embeddings, 32))\n",
    "training_embeddings = tf.concat(list(training_embeddings), axis=0).to_tensor()\n",
    "training_labels = tf.constant(training_labels)\n",
    "print(\"done\")"
   ],
   "outputs": [
    {
     "name": "stdout",
     "output_type": "stream",
     "text": [
      "Creating input tensors...\n"
     ]
    },
    {
     "name": "stderr",
     "output_type": "stream",
     "text": [
      "2024-08-08 15:52:16.735813: W external/local_tsl/tsl/framework/cpu_allocator_impl.cc:83] Allocation of 32820224 exceeds 10% of free system memory.\n",
      "2024-08-08 15:52:59.925147: W external/local_tsl/tsl/framework/cpu_allocator_impl.cc:83] Allocation of 32815616 exceeds 10% of free system memory.\n",
      "2024-08-08 15:53:01.332828: W external/local_tsl/tsl/framework/cpu_allocator_impl.cc:83] Allocation of 1050245632 exceeds 10% of free system memory.\n",
      "2024-08-08 15:53:01.658792: W external/local_tsl/tsl/framework/cpu_allocator_impl.cc:83] Allocation of 1055979520 exceeds 10% of free system memory.\n"
     ]
    },
    {
     "name": "stdout",
     "output_type": "stream",
     "text": [
      "done\n"
     ]
    }
   ],
   "execution_count": 10
  },
  {
   "metadata": {
    "ExecuteTime": {
     "end_time": "2024-08-06T09:15:19.017898Z",
     "start_time": "2024-08-06T09:15:19.015331Z"
    }
   },
   "cell_type": "code",
   "source": "# TODO: remove google data",
   "outputs": [],
   "execution_count": 24
  },
  {
   "metadata": {},
   "cell_type": "markdown",
   "source": "## Classification model definition"
  },
  {
   "cell_type": "code",
   "metadata": {
    "ExecuteTime": {
     "end_time": "2024-08-08T13:53:09.116279Z",
     "start_time": "2024-08-08T13:53:09.113023Z"
    }
   },
   "source": [
    "def get_classifier(weights=None):\n",
    "    result = Sequential()\n",
    "    \n",
    "    result.add(Input(shape=(None, 128), dtype=tf.float32))\n",
    "    \n",
    "    # adding layers for classification\n",
    "    result.add(Conv1D(64, kernel_size=5, strides=1, padding=\"same\", activation=\"relu\", data_format=\"channels_last\"))\n",
    "    result.add(MaxPooling1D(padding=\"same\", data_format=\"channels_last\"))\n",
    "    result.add(Dropout(0.3))\n",
    "    \n",
    "    result.add(Conv1D(128, kernel_size=5, strides=1, padding=\"same\", activation=\"relu\", data_format=\"channels_last\"))\n",
    "    result.add(GlobalMaxPooling1D(data_format=\"channels_last\"))\n",
    "    result.add(Dropout(0.3))\n",
    "    \n",
    "    result.add(Dense(256, activation=\"relu\"))\n",
    "    result.add(Dropout(0.3))\n",
    "    \n",
    "    result.add(Dense(512, activation=\"relu\"))\n",
    "    result.add(Dropout(0.3))\n",
    "    \n",
    "    result.add(Dense(len(classes), activation=\"sigmoid\"))\n",
    "    \n",
    "    if weights is not None:\n",
    "        result.set_weights(weights)\n",
    "\n",
    "    result.compile(optimizer=\"adam\", loss=\"binary_crossentropy\", metrics=[\"accuracy\"])\n",
    "    return result"
   ],
   "outputs": [],
   "execution_count": 13
  },
  {
   "metadata": {
    "ExecuteTime": {
     "end_time": "2024-08-08T13:53:09.642746Z",
     "start_time": "2024-08-08T13:53:09.512224Z"
    }
   },
   "cell_type": "code",
   "source": "classification_model = get_classifier()",
   "outputs": [],
   "execution_count": 14
  },
  {
   "metadata": {},
   "cell_type": "markdown",
   "source": "## Model training"
  },
  {
   "metadata": {
    "ExecuteTime": {
     "end_time": "2024-08-08T13:58:13.610470Z",
     "start_time": "2024-08-08T13:53:10.981131Z"
    }
   },
   "cell_type": "code",
   "source": [
    "early_stop = tf_keras.callbacks.EarlyStopping(patience=5, restore_best_weights=True)\n",
    "\n",
    "classification_model.fit(training_embeddings, training_labels, batch_size=32, validation_split=.15, shuffle=True, epochs=30, callbacks=[early_stop])"
   ],
   "outputs": [
    {
     "name": "stdout",
     "output_type": "stream",
     "text": [
      "Epoch 1/30\n",
      "5479/5479 [==============================] - 30s 5ms/step - loss: 0.0484 - accuracy: 0.9977 - val_loss: 0.0428 - val_accuracy: 0.9978\n",
      "Epoch 2/30\n",
      "5479/5479 [==============================] - 21s 4ms/step - loss: 0.0428 - accuracy: 0.9978 - val_loss: 0.0406 - val_accuracy: 0.9977\n",
      "Epoch 3/30\n",
      "5479/5479 [==============================] - 20s 4ms/step - loss: 0.0416 - accuracy: 0.9976 - val_loss: 0.0421 - val_accuracy: 0.9978\n",
      "Epoch 4/30\n",
      "5479/5479 [==============================] - 21s 4ms/step - loss: 0.0407 - accuracy: 0.9976 - val_loss: 0.0403 - val_accuracy: 0.9979\n",
      "Epoch 5/30\n",
      "5479/5479 [==============================] - 20s 4ms/step - loss: 0.0399 - accuracy: 0.9976 - val_loss: 0.0396 - val_accuracy: 0.9974\n",
      "Epoch 6/30\n",
      "5479/5479 [==============================] - 20s 4ms/step - loss: 0.0394 - accuracy: 0.9975 - val_loss: 0.0387 - val_accuracy: 0.9977\n",
      "Epoch 7/30\n",
      "5479/5479 [==============================] - 19s 4ms/step - loss: 0.0391 - accuracy: 0.9976 - val_loss: 0.0411 - val_accuracy: 0.9979\n",
      "Epoch 8/30\n",
      "5479/5479 [==============================] - 19s 4ms/step - loss: 0.0386 - accuracy: 0.9976 - val_loss: 0.0383 - val_accuracy: 0.9979\n",
      "Epoch 9/30\n",
      "5479/5479 [==============================] - 23s 4ms/step - loss: 0.0384 - accuracy: 0.9977 - val_loss: 0.0366 - val_accuracy: 0.9979\n",
      "Epoch 10/30\n",
      "5479/5479 [==============================] - 26s 5ms/step - loss: 0.0386 - accuracy: 0.9977 - val_loss: 0.0384 - val_accuracy: 0.9978\n",
      "Epoch 11/30\n",
      "5479/5479 [==============================] - 27s 5ms/step - loss: 0.0384 - accuracy: 0.9977 - val_loss: 0.0394 - val_accuracy: 0.9978\n",
      "Epoch 12/30\n",
      "5479/5479 [==============================] - 19s 4ms/step - loss: 0.0378 - accuracy: 0.9978 - val_loss: 0.0419 - val_accuracy: 0.9978\n",
      "Epoch 13/30\n",
      "5479/5479 [==============================] - 18s 3ms/step - loss: 0.0379 - accuracy: 0.9978 - val_loss: 0.0394 - val_accuracy: 0.9978\n",
      "Epoch 14/30\n",
      "5479/5479 [==============================] - 18s 3ms/step - loss: 0.0380 - accuracy: 0.9978 - val_loss: 0.0377 - val_accuracy: 0.9978\n"
     ]
    },
    {
     "data": {
      "text/plain": [
       "<tf_keras.src.callbacks.History at 0x7394aae1b410>"
      ]
     },
     "execution_count": 15,
     "metadata": {},
     "output_type": "execute_result"
    }
   ],
   "execution_count": 15
  },
  {
   "metadata": {},
   "cell_type": "markdown",
   "source": "## Model export"
  },
  {
   "metadata": {
    "ExecuteTime": {
     "end_time": "2024-08-08T13:58:36.874072Z",
     "start_time": "2024-08-08T13:58:13.611519Z"
    }
   },
   "cell_type": "code",
   "source": [
    "# downloading Googles VGGish model for sound embeddings\n",
    "# TODO: look into licensing\n",
    "vggish = KerasLayer(\"https://www.kaggle.com/models/google/vggish/TensorFlow2/vggish/1\")"
   ],
   "outputs": [
    {
     "name": "stderr",
     "output_type": "stream",
     "text": [
      "2024-08-08 15:58:36.699192: W external/local_tsl/tsl/framework/cpu_allocator_impl.cc:83] Allocation of 201326592 exceeds 10% of free system memory.\n",
      "2024-08-08 15:58:36.708734: W external/local_tsl/tsl/framework/cpu_allocator_impl.cc:83] Allocation of 67108864 exceeds 10% of free system memory.\n"
     ]
    }
   ],
   "execution_count": 16
  },
  {
   "metadata": {
    "ExecuteTime": {
     "end_time": "2024-08-08T14:25:56.695965Z",
     "start_time": "2024-08-08T14:25:56.690839Z"
    }
   },
   "cell_type": "code",
   "source": [
    "# adding classification model\n",
    "model = Sequential([\n",
    "    vggish,\n",
    "    Lambda(lambda x: tf.expand_dims(x, axis=0)), # add batch dimension\n",
    "    classification_model\n",
    "])"
   ],
   "outputs": [],
   "execution_count": 47
  },
  {
   "metadata": {
    "ExecuteTime": {
     "end_time": "2024-08-08T14:31:44.332627Z",
     "start_time": "2024-08-08T14:31:35.268006Z"
    }
   },
   "cell_type": "code",
   "source": [
    "converter = tf.lite.TFLiteConverter.from_keras_model(model)\n",
    "tflite_model = converter.convert()\n",
    "\n",
    "with tf.io.gfile.GFile(\"model.tflite\", \"wb\") as file:\n",
    "    file.write(tflite_model)"
   ],
   "outputs": [
    {
     "name": "stdout",
     "output_type": "stream",
     "text": [
      "INFO:tensorflow:Assets written to: /tmp/tmp2edwpg_m/assets\n"
     ]
    },
    {
     "name": "stderr",
     "output_type": "stream",
     "text": [
      "INFO:tensorflow:Assets written to: /tmp/tmp2edwpg_m/assets\n",
      "WARNING: All log messages before absl::InitializeLog() is called are written to STDERR\n",
      "W0000 00:00:1723127497.530293   73241 tf_tfl_flatbuffer_helpers.cc:392] Ignored output_format.\n",
      "W0000 00:00:1723127497.530315   73241 tf_tfl_flatbuffer_helpers.cc:395] Ignored drop_control_dependency.\n",
      "2024-08-08 16:31:37.530533: I tensorflow/cc/saved_model/reader.cc:83] Reading SavedModel from: /tmp/tmp2edwpg_m\n",
      "2024-08-08 16:31:37.532752: I tensorflow/cc/saved_model/reader.cc:52] Reading meta graph with tags { serve }\n",
      "2024-08-08 16:31:37.532763: I tensorflow/cc/saved_model/reader.cc:147] Reading SavedModel debug info (if present) from: /tmp/tmp2edwpg_m\n",
      "2024-08-08 16:31:37.545355: I tensorflow/compiler/mlir/mlir_graph_optimization_pass.cc:388] MLIR V1 optimization pass is not enabled\n",
      "2024-08-08 16:31:37.547256: I tensorflow/cc/saved_model/loader.cc:236] Restoring SavedModel bundle.\n",
      "2024-08-08 16:31:37.751868: I tensorflow/cc/saved_model/loader.cc:220] Running initialization op on SavedModel bundle at path: /tmp/tmp2edwpg_m\n",
      "2024-08-08 16:31:37.774287: I tensorflow/cc/saved_model/loader.cc:462] SavedModel load for tags { serve }; Status: success: OK. Took 243755 microseconds.\n",
      "2024-08-08 16:31:37.817906: I tensorflow/compiler/mlir/tensorflow/utils/dump_mlir_util.cc:268] disabling MLIR crash reproducer, set env var `MLIR_CRASH_REPRODUCER_DIRECTORY` to enable.\n"
     ]
    }
   ],
   "execution_count": 56
  }
 ],
 "metadata": {
  "kernelspec": {
   "display_name": "sleeptalk",
   "language": "python",
   "name": "python3"
  },
  "language_info": {
   "codemirror_mode": {
    "name": "ipython",
    "version": 3
   },
   "file_extension": ".py",
   "mimetype": "text/x-python",
   "name": "python",
   "nbconvert_exporter": "python",
   "pygments_lexer": "ipython3",
   "version": "3.9.19"
  }
 },
 "nbformat": 4,
 "nbformat_minor": 2
}
